{
 "cells": [
  {
   "cell_type": "code",
   "execution_count": 3,
   "id": "528f4b2d",
   "metadata": {},
   "outputs": [],
   "source": [
    "def basic_0(source, start, end):\n",
    "        if (start < end):\n",
    "            basic_0(source, start, (start+end)/2)  \n",
    "            basic_0(source, (start+end)/2+1, end )\n",
    "            result = []\n",
    "            finger1 = start\n",
    "            finger2 = (start+end)//2+1\n",
    "            index = 0\n",
    "            while (finger1 <= (start+end)/2 and finger2 <= end):\n",
    "                if(source[finger1] <  source[finger2]):\n",
    "                    result[index] = source[finger1]\n",
    "                    index = index+1\n",
    "                    finger1 = finger1 + 1\n",
    "                else:\n",
    "                    result[index] = source[finger2]\n",
    "                    index = index+1\n",
    "                    finger2 = finger2 + 1\n",
    "\n",
    "            while (finger1 <= (start+end)/2):\n",
    "                result[index] = source[finger1]\n",
    "                index = index+1\n",
    "                finger1 = finger1 + 1\n",
    "            while (finger2 <= end):\n",
    "                result[index] = source[finger2]\n",
    "                index = index+1\n",
    "                finger2 = finger2 + 1\n",
    "            for i in range(start, end+1):\n",
    "                source[i] = result[i-start]\n",
    "                    \n",
    "\n"
   ]
  },
  {
   "cell_type": "code",
   "execution_count": null,
   "id": "ef894deb",
   "metadata": {},
   "outputs": [],
   "source": [
    "import random as rd\n",
    "a = []\n",
    "for i in range(0,99):\n",
    "    "
   ]
  }
 ],
 "metadata": {
  "kernelspec": {
   "display_name": "Python 3 (ipykernel)",
   "language": "python",
   "name": "python3"
  },
  "language_info": {
   "codemirror_mode": {
    "name": "ipython",
    "version": 3
   },
   "file_extension": ".py",
   "mimetype": "text/x-python",
   "name": "python",
   "nbconvert_exporter": "python",
   "pygments_lexer": "ipython3",
   "version": "3.10.4"
  }
 },
 "nbformat": 4,
 "nbformat_minor": 5
}
