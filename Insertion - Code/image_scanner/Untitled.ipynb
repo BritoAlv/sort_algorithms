{
 "cells": [
  {
   "cell_type": "code",
   "execution_count": 21,
   "id": "8ae0ed9b",
   "metadata": {},
   "outputs": [
    {
     "name": "stdout",
     "output_type": "stream",
     "text": [
      "(1080, 1050)\n",
      "(178, 169, 152)\n"
     ]
    }
   ],
   "source": [
    "from PIL import Image\n",
    "\n",
    "im = Image.open('B.jpg') # Can be many different formats.\n",
    "pix = im.load()\n",
    "print(im.size)  # Get the width and hight of the image for iterating over\n",
    "print(pix[0,0])  # Get the RGBA Value of the a pixel of an image\n",
    "for x in range(0, im.size[0]):\n",
    "    for y in range(0, im.size[1]):\n",
    "        Y = 0.2126*pix[x,y][0] + 0.7152*pix[x,y][1] + 0.0722*pix[x,y][2]\n",
    "        if(Y < 128): #color is black\n",
    "            pix[x,y] = (0,0,0)\n",
    "        else:\n",
    "            pix[x,y] = (255,255,255)\n",
    "im.save('C.png')           "
   ]
  },
  {
   "cell_type": "code",
   "execution_count": null,
   "id": "ee31f2c5",
   "metadata": {},
   "outputs": [],
   "source": []
  }
 ],
 "metadata": {
  "kernelspec": {
   "display_name": "Python 3 (ipykernel)",
   "language": "python",
   "name": "python3"
  },
  "language_info": {
   "codemirror_mode": {
    "name": "ipython",
    "version": 3
   },
   "file_extension": ".py",
   "mimetype": "text/x-python",
   "name": "python",
   "nbconvert_exporter": "python",
   "pygments_lexer": "ipython3",
   "version": "3.10.4"
  }
 },
 "nbformat": 4,
 "nbformat_minor": 5
}
